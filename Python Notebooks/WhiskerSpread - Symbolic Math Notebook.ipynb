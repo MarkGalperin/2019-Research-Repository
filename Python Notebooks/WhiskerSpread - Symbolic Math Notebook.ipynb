{
 "cells": [
  {
   "cell_type": "markdown",
   "metadata": {},
   "source": [
    "**In this notebook I plan on re-creating the math for which so far I've used Desmos as a visual aid. Doing this in python with the symbolic math module Sympy will be a huge help, especially for equation solving, organization, and for when I plan on exporting my findings to other applicaitons.**"
   ]
  },
  {
   "cell_type": "markdown",
   "metadata": {},
   "source": [
    "**Imports...**"
   ]
  },
  {
   "cell_type": "code",
   "execution_count": 1,
   "metadata": {},
   "outputs": [],
   "source": [
    "#importing Sympy...\n",
    "from sympy import *\n",
    "from sympy.vector import CoordSys3D\n",
    "N = CoordSys3D('N')\n",
    "init_printing()"
   ]
  },
  {
   "cell_type": "markdown",
   "metadata": {},
   "source": [
    "**Symbols and vectors...**"
   ]
  },
  {
   "cell_type": "code",
   "execution_count": 2,
   "metadata": {},
   "outputs": [],
   "source": [
    "#xyz space...\n",
    "x = symbols('x')\n",
    "y = symbols('y')\n",
    "z = symbols('z')\n",
    "\n",
    "#control frame...\n",
    "p = symbols('p') #i'm using p for theta = rotation angle of the control frame\n",
    "s = symbols('s') #s is the equal to ctrl frame length / face frame length\n",
    "a = symbols('a') #a is the x-component of the c.f. position vector\n",
    "b = symbols('b') #b is the y-component of the c.f. position vector\n",
    "r = a*N.i + b*N.j + 0*N.k #r is the c.f. position vector\n",
    "c = (sin(p))*N.i + (cos(p))*N.j + 0*N.k\n",
    "\n",
    "#face frame\n",
    "f = symbols('f') #f is the length of the face frame\n",
    "k = symbols('k') #k is the fraction up the face frame that a whisker joint lies. \n",
    "                 # the y intercept lies on y = fk\n",
    "y1 = symbols('y1')\n",
    "#y1 = f*k\n",
    "\n",
    "#parametrization symbols...\n",
    "q = symbols('q')"
   ]
  },
  {
   "cell_type": "markdown",
   "metadata": {},
   "source": [
    "**Orientation**"
   ]
  },
  {
   "cell_type": "code",
   "execution_count": 3,
   "metadata": {},
   "outputs": [],
   "source": [
    "#orientations w.r.t. the y position... y1 = fk\n",
    "u = (N.j - s*c)*y1 - r\n",
    "u_norm = u.normalize()"
   ]
  },
  {
   "cell_type": "code",
   "execution_count": 4,
   "metadata": {},
   "outputs": [],
   "source": [
    "#deriving my vectors with respect to y...\n",
    "du = u.diff(y1)\n",
    "du_norm = u_norm.diff(y1)\n",
    "d2u_norm = du_norm.diff(y1)"
   ]
  },
  {
   "cell_type": "code",
   "execution_count": 5,
   "metadata": {},
   "outputs": [
    {
     "data": {
      "image/png": "[encoded data removed]",
      "text/latex": [
       "$$(\\frac{- 3 \\left(a + s y_{1} \\sin{\\left (p \\right )}\\right) \\left(a s \\sin{\\left (p \\right )} + b s \\cos{\\left (p \\right )} - b + s^{2} y_{1} - 2 s y_{1} \\cos{\\left (p \\right )} + y_{1}\\right)^{2} + \\left(2 s \\left(a s \\sin{\\left (p \\right )} + b s \\cos{\\left (p \\right )} - b + s^{2} y_{1} - 2 s y_{1} \\cos{\\left (p \\right )} + y_{1}\\right) \\sin{\\left (p \\right )} + \\left(a + s y_{1} \\sin{\\left (p \\right )}\\right) \\left(s^{2} - 2 s \\cos{\\left (p \\right )} + 1\\right)\\right) \\left(\\left(a + s y_{1} \\sin{\\left (p \\right )}\\right)^{2} + \\left(b + y_{1} \\left(s \\cos{\\left (p \\right )} - 1\\right)\\right)^{2}\\right)}{\\left(\\left(a + s y_{1} \\sin{\\left (p \\right )}\\right)^{2} + \\left(b + y_{1} \\left(s \\cos{\\left (p \\right )} - 1\\right)\\right)^{2}\\right)^{\\frac{5}{2}}})\\mathbf{\\hat{i}_{N}} + (\\frac{- 3 \\left(b + y_{1} \\left(s \\cos{\\left (p \\right )} - 1\\right)\\right) \\left(a s \\sin{\\left (p \\right )} + b s \\cos{\\left (p \\right )} - b + s^{2} y_{1} - 2 s y_{1} \\cos{\\left (p \\right )} + y_{1}\\right)^{2} + \\left(\\left(b + y_{1} \\left(s \\cos{\\left (p \\right )} - 1\\right)\\right) \\left(s^{2} - 2 s \\cos{\\left (p \\right )} + 1\\right) + 2 \\left(s \\cos{\\left (p \\right )} - 1\\right) \\left(a s \\sin{\\left (p \\right )} + b s \\cos{\\left (p \\right )} - b + s^{2} y_{1} - 2 s y_{1} \\cos{\\left (p \\right )} + y_{1}\\right)\\right) \\left(\\left(a + s y_{1} \\sin{\\left (p \\right )}\\right)^{2} + \\left(b + y_{1} \\left(s \\cos{\\left (p \\right )} - 1\\right)\\right)^{2}\\right)}{\\left(\\left(a + s y_{1} \\sin{\\left (p \\right )}\\right)^{2} + \\left(b + y_{1} \\left(s \\cos{\\left (p \\right )} - 1\\right)\\right)^{2}\\right)^{\\frac{5}{2}}})\\mathbf{\\hat{j}_{N}}$$"
      ],
      "text/plain": [
       "((-3*(a + s*y1*sin(p))*(a*s*sin(p) + b*s*cos(p) - b + s**2*y1 - 2*s*y1*cos(p) + y1)**2 + (2*s*(a*s*sin(p) + b*s*cos(p) - b + s**2*y1 - 2*s*y1*cos(p) + y1)*sin(p) + (a + s*y1*sin(p))*(s**2 - 2*s*cos(p) + 1))*((a + s*y1*sin(p))**2 + (b + y1*(s*cos(p) - 1))**2))/((a + s*y1*sin(p))**2 + (b + y1*(s*cos(p) - 1))**2)**(5/2))*N.i + ((-3*(b + y1*(s*cos(p) - 1))*(a*s*sin(p) + b*s*cos(p) - b + s**2*y1 - 2*s*y1*cos(p) + y1)**2 + ((b + y1*(s*cos(p) - 1))*(s**2 - 2*s*cos(p) + 1) + 2*(s*cos(p) - 1)*(a*s*sin(p) + b*s*cos(p) - b + s**2*y1 - 2*s*y1*cos(p) + y1))*((a + s*y1*sin(p))**2 + (b + y1*(s*cos(p) - 1))**2))/((a + s*y1*sin(p))**2 + (b + y1*(s*cos(p) - 1))**2)**(5/2))*N.j"
      ]
     },
     "execution_count": 5,
     "metadata": {},
     "output_type": "execute_result"
    }
   ],
   "source": [
    "simplify(d2u_norm)"
   ]
  },
  {
   "cell_type": "markdown",
   "metadata": {},
   "source": [
    "**Deriving the boundary curve**"
   ]
  },
  {
   "cell_type": "code",
   "execution_count": 6,
   "metadata": {},
   "outputs": [],
   "source": [
    "#y-intercept-to-xy vector\n",
    "ry = (x)*N.i + (y-y1)*N.j + 0*N.k\n",
    "\n",
    "#perfoming the cross product...\n",
    "parallel_exp = (u.cross(ry)).dot(N.k) #when this is equal to 0, xy are on a whisker line\n",
    "\n",
    "#solving the quadratic...\n",
    "boundary = Poly(parallel_exp,y1).discriminant()"
   ]
  },
  {
   "cell_type": "markdown",
   "metadata": {},
   "source": [
    "**Parametrization**\n",
    "\n",
    "In the first part here, I'll derive a vector function to traverse the boundary curve with respect to a single parameter q. This parametrization relies on projection of the conic eqn from one of its point onto a line, where one point is the boundary curve's y-intercept, and the other is the intersection of the curve and a line that passes through the y-intercept. This method was suggested to me by Professor Minhea Popa.\n",
    "\n",
    "In the second part of this section, I'll try an alternate parametrization based on traversing the y axis, like with the vector u earlier. Hopefully it can turn out more elegantly than what I got for the other parametrization, but who knows!!\n",
    "\n",
    "RESULT: Turns out the second part turned out MUCH more elegantly, owing to the fact that it came back full-circle to the definition of the vector u. This is very cool, but also a little frustrating because the math for computing protraction and spread was right in front of me literally from day 1..."
   ]
  },
  {
   "cell_type": "code",
   "execution_count": 32,
   "metadata": {},
   "outputs": [
    {
     "data": {
      "image/png": "[encoded data removed]",
      "text/latex": [
       "$$\\left [ \\left ( 0, \\quad - \\frac{a}{s \\sin{\\left (p \\right )}}\\right ), \\quad \\left ( \\frac{- 4 a s \\cos{\\left (p \\right )} + 4 a + 4 b s \\sin{\\left (p \\right )}}{q^{2} s^{2} \\sin^{2}{\\left (p \\right )} - q s^{2} \\sin{\\left (2 p \\right )} + 2 q s \\sin{\\left (p \\right )} + s^{2} \\cos^{2}{\\left (p \\right )} - 2 s \\cos{\\left (p \\right )} + 1}, \\quad \\frac{- a q^{2} s^{2} \\sin^{2}{\\left (p \\right )} - a q s^{2} \\sin{\\left (2 p \\right )} + 2 a q s \\sin{\\left (p \\right )} - a s^{2} \\cos^{2}{\\left (p \\right )} + 2 a s \\cos{\\left (p \\right )} - a + 4 b q s^{2} \\sin^{2}{\\left (p \\right )}}{s \\left(q^{2} s^{2} \\sin^{2}{\\left (p \\right )} - q s^{2} \\sin{\\left (2 p \\right )} + 2 q s \\sin{\\left (p \\right )} + s^{2} \\cos^{2}{\\left (p \\right )} - 2 s \\cos{\\left (p \\right )} + 1\\right) \\sin{\\left (p \\right )}}\\right )\\right ]$$"
      ],
      "text/plain": [
       "⎡               ⎛                                                             \n",
       "⎢⎛     -a    ⎞  ⎜                    -4⋅a⋅s⋅cos(p) + 4⋅a + 4⋅b⋅s⋅sin(p)       \n",
       "⎢⎜0, ────────⎟, ⎜─────────────────────────────────────────────────────────────\n",
       "⎢⎝   s⋅sin(p)⎠  ⎜ 2  2    2         2                            2    2       \n",
       "⎣               ⎝q ⋅s ⋅sin (p) - q⋅s ⋅sin(2⋅p) + 2⋅q⋅s⋅sin(p) + s ⋅cos (p) - 2\n",
       "\n",
       "                    2  2    2           2                                2    \n",
       "               - a⋅q ⋅s ⋅sin (p) - a⋅q⋅s ⋅sin(2⋅p) + 2⋅a⋅q⋅s⋅sin(p) - a⋅s ⋅cos\n",
       "─────────────, ───────────────────────────────────────────────────────────────\n",
       "                           ⎛ 2  2    2         2                            2 \n",
       "⋅s⋅cos(p) + 1            s⋅⎝q ⋅s ⋅sin (p) - q⋅s ⋅sin(2⋅p) + 2⋅q⋅s⋅sin(p) + s ⋅\n",
       "\n",
       "2                                2    2   ⎞⎤\n",
       " (p) + 2⋅a⋅s⋅cos(p) - a + 4⋅b⋅q⋅s ⋅sin (p)⎟⎥\n",
       "──────────────────────────────────────────⎟⎥\n",
       "   2                    ⎞                 ⎟⎥\n",
       "cos (p) - 2⋅s⋅cos(p) + 1⎠⋅sin(p)          ⎠⎦"
      ]
     },
     "execution_count": 32,
     "metadata": {},
     "output_type": "execute_result"
    }
   ],
   "source": [
    "#PART 1: projection of the conic from one of its points onto a line\n",
    "yint_line = q*x - y - a/(s*sin(p))\n",
    "\n",
    "P1 = solve([yint_line,boundary],x,y)\n",
    "P1"
   ]
  },
  {
   "cell_type": "code",
   "execution_count": 33,
   "metadata": {},
   "outputs": [],
   "source": [
    "#comonents of the parametrized solution...\n",
    "P1x = P1[1][0]\n",
    "P1y = P1[1][1]\n",
    "\n",
    "#calculating the derivatives...\n",
    "P1xdq = Derivative(P1x,q)\n",
    "P1ydq = Derivative(P1y,q)"
   ]
  },
  {
   "cell_type": "code",
   "execution_count": 35,
   "metadata": {},
   "outputs": [],
   "source": [
    "#PART 2: intercept of y1-parametrized line and the boundary curve\n",
    "u_line = (((1-s*cos(p))*y1-b)/((-s*sin(p))*y1-a))*x - y + y1\n",
    "P2 = solve([u_line,boundary],x,y)"
   ]
  },
  {
   "cell_type": "code",
   "execution_count": 62,
   "metadata": {},
   "outputs": [],
   "source": [
    "#components of the parametrized solution...\n",
    "P2x = P2[0][0]\n",
    "P2y = P2[0][1]\n",
    "\n",
    "#calculating the derivatives...\n",
    "P2xdy1 = P2x.diff(y1)\n",
    "P2ydy1 = P2y.diff(y1)\n",
    "P2dydx = P2ydy1/P2xdy1"
   ]
  },
  {
   "cell_type": "code",
   "execution_count": 83,
   "metadata": {},
   "outputs": [],
   "source": [
    "#protraction angle with respect to y...\n",
    "protract_y = trigsimp(atan(P2dydx))\n",
    "\n",
    "#\"spread\" = dprotraction/dy...\n",
    "spread_y = simplify(protract_y.diff(y1))"
   ]
  },
  {
   "cell_type": "code",
   "execution_count": 84,
   "metadata": {},
   "outputs": [
    {
     "data": {
      "image/png": "[encoded data removed]",
      "text/latex": [
       "$$\\frac{a s \\cos{\\left (p \\right )} - a - b s \\sin{\\left (p \\right )}}{\\left(a + s y_{1} \\sin{\\left (p \\right )}\\right)^{2} + \\left(b + s y_{1} \\cos{\\left (p \\right )} - y_{1}\\right)^{2}}$$"
      ],
      "text/plain": [
       "        a⋅s⋅cos(p) - a - b⋅s⋅sin(p)         \n",
       "────────────────────────────────────────────\n",
       "                 2                         2\n",
       "(a + s⋅y₁⋅sin(p))  + (b + s⋅y₁⋅cos(p) - y₁) "
      ]
     },
     "execution_count": 84,
     "metadata": {},
     "output_type": "execute_result"
    }
   ],
   "source": [
    "spread_y"
   ]
  },
  {
   "cell_type": "markdown",
   "metadata": {},
   "source": [
    "**Investigating curvature from Parametrization 2**"
   ]
  },
  {
   "cell_type": "code",
   "execution_count": 95,
   "metadata": {},
   "outputs": [],
   "source": [
    "#getting the second derivatives...\n",
    "P2xd2y1 = P2xdy1.diff(y1)\n",
    "P2yd2y1 = P2ydy1.diff(y1)\n",
    "\n",
    "#curvature...\n",
    "k = (P2xdy1*P2yd2y1-P2ydy1*P2xd2y1)/(((P2xdy1)**2+(P2ydy1)**2)**(3/2))"
   ]
  },
  {
   "cell_type": "code",
   "execution_count": 100,
   "metadata": {},
   "outputs": [
    {
     "data": {
      "image/png": "[encoded data removed]",
      "text/latex": [
       "$$\\frac{2 b s \\sin{\\left (p \\right )} + s^{2} y_{1} \\sin{\\left (2 p \\right )} - 2 s y_{1} \\sin{\\left (p \\right )}}{- a s \\cos{\\left (p \\right )} + a + b s \\sin{\\left (p \\right )}}$$"
      ],
      "text/plain": [
       "                2                            \n",
       "2⋅b⋅s⋅sin(p) + s ⋅y₁⋅sin(2⋅p) - 2⋅s⋅y₁⋅sin(p)\n",
       "─────────────────────────────────────────────\n",
       "         -a⋅s⋅cos(p) + a + b⋅s⋅sin(p)        "
      ]
     },
     "execution_count": 100,
     "metadata": {},
     "output_type": "execute_result"
    }
   ],
   "source": [
    "#P2yd2y1\n",
    "P2ydy1"
   ]
  },
  {
   "cell_type": "code",
   "execution_count": 98,
   "metadata": {},
   "outputs": [
    {
     "data": {
      "image/png": "[encoded data removed]",
      "text/latex": [
       "$$\\frac{2.0}{\\left|{\\frac{s^{2} \\sin^{2}{\\left (p \\right )}}{\\left(\\frac{s^{2} \\left(\\left(a + s y_{1} \\sin{\\left (p \\right )}\\right)^{2} + \\left(b + s y_{1} \\cos{\\left (p \\right )} - y_{1}\\right)^{2}\\right) \\sin^{2}{\\left (p \\right )}}{\\left(- a s \\cos{\\left (p \\right )} + a + b s \\sin{\\left (p \\right )}\\right)^{2}}\\right)^{1.5} \\left(- a s \\cos{\\left (p \\right )} + a + b s \\sin{\\left (p \\right )}\\right)}}\\right|}$$"
      ],
      "text/plain": [
       "                                    2.0                                     \n",
       "────────────────────────────────────────────────────────────────────────────\n",
       "│                                                              -1.5        │\n",
       "│   ⎛ 2 ⎛                 2                         2⎞    2   ⎞            │\n",
       "│ 2 ⎜s ⋅⎝(a + s⋅y₁⋅sin(p))  + (b + s⋅y₁⋅cos(p) - y₁) ⎠⋅sin (p)⎟        2   │\n",
       "│s ⋅⎜─────────────────────────────────────────────────────────⎟    ⋅sin (p)│\n",
       "│   ⎜                                           2             ⎟            │\n",
       "│   ⎝             (-a⋅s⋅cos(p) + a + b⋅s⋅sin(p))              ⎠            │\n",
       "│──────────────────────────────────────────────────────────────────────────│\n",
       "│                       -a⋅s⋅cos(p) + a + b⋅s⋅sin(p)                       │"
      ]
     },
     "execution_count": 98,
     "metadata": {},
     "output_type": "execute_result"
    }
   ],
   "source": [
    "k = simplify(k)\n",
    "R = simplify(1/abs(k))\n",
    "trigsimp(R)"
   ]
  }
 ],
 "metadata": {
  "kernelspec": {
   "display_name": "Python 3",
   "language": "python",
   "name": "python3"
  },
  "language_info": {
   "codemirror_mode": {
    "name": "ipython",
    "version": 3
   },
   "file_extension": ".py",
   "mimetype": "text/x-python",
   "name": "python",
   "nbconvert_exporter": "python",
   "pygments_lexer": "ipython3",
   "version": "3.7.3"
  }
 },
 "nbformat": 4,
 "nbformat_minor": 2
}
