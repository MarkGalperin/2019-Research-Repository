{
 "cells": [
  {
   "cell_type": "code",
   "execution_count": 4,
   "metadata": {},
   "outputs": [],
   "source": [
    "#importing\n",
    "from sympy import *\n",
    "init_printing()"
   ]
  },
  {
   "cell_type": "code",
   "execution_count": 26,
   "metadata": {},
   "outputs": [],
   "source": [
    "#defining some symbols...\n",
    "x = symbols('x')\n",
    "y = symbols('y')\n",
    "a = symbols('a')"
   ]
  },
  {
   "cell_type": "code",
   "execution_count": 22,
   "metadata": {},
   "outputs": [
    {
     "data": {
      "image/png": "[encoded data removed]",
      "text/latex": [
       "$$\\int \\frac{x^{2} + 3 x + 5}{2 x^{3}}\\, dx = \\frac{\\log{\\left (x \\right )}}{2} - \\frac{6 x + 5}{4 x^{2}}$$"
      ],
      "text/plain": [
       "⌠                                   \n",
       "⎮  2                                \n",
       "⎮ x  + 3⋅x + 5      log(x)   6⋅x + 5\n",
       "⎮ ──────────── dx = ────── - ───────\n",
       "⎮        3            2           2 \n",
       "⎮     2⋅x                      4⋅x  \n",
       "⌡                                   "
      ]
     },
     "execution_count": 22,
     "metadata": {},
     "output_type": "execute_result"
    }
   ],
   "source": [
    "#making an expression\n",
    "expr1 = x**2 + 3*x + 5\n",
    "expr2 = expr1/(2*x**3)\n",
    "\n",
    "#evaluating an integral\n",
    "a = Integral(expr2, x)\n",
    "Eq(a, a.doit())"
   ]
  },
  {
   "cell_type": "code",
   "execution_count": 59,
   "metadata": {},
   "outputs": [
    {
     "data": {
      "image/png": "[encoded data removed]",
      "text/latex": [
       "$$\\left \\{ x : \\frac{a}{2} + \\frac{3}{2}, \\quad y : - \\frac{a}{2} + \\frac{3}{2}\\right \\}$$"
      ],
      "text/plain": [
       "⎧   a   3       a   3⎫\n",
       "⎨x: ─ + ─, y: - ─ + ─⎬\n",
       "⎩   2   2       2   2⎭"
      ]
     },
     "execution_count": 59,
     "metadata": {},
     "output_type": "execute_result"
    }
   ],
   "source": [
    "#solving equations...\n",
    "#importing...\n",
    "expr3 = x + y - 3\n",
    "expr4 = y-x + a\n",
    "solve([expr3,expr4],x,y,use_latex=True)"
   ]
  },
  {
   "cell_type": "code",
   "execution_count": 29,
   "metadata": {},
   "outputs": [],
   "source": [
    "#doing things with vectors\n",
    "from sympy.vector import CoordSys3D\n",
    "N = CoordSys3D('N')"
   ]
  },
  {
   "cell_type": "code",
   "execution_count": 38,
   "metadata": {},
   "outputs": [],
   "source": [
    "v1 = N.i + 2*N.j + 3*N.k\n",
    "v2 = 5*N.i + 6*a*N.j + 2*N.k"
   ]
  },
  {
   "cell_type": "code",
   "execution_count": 41,
   "metadata": {},
   "outputs": [],
   "source": [
    "d1 = v1.dot(v2)\n",
    "c1 = v2.cross(v1)"
   ]
  },
  {
   "cell_type": "code",
   "execution_count": 58,
   "metadata": {},
   "outputs": [
    {
     "data": {
      "image/png": "[encoded data removed]",
      "text/latex": [
       "$$(18)\\mathbf{\\hat{i}_{N}} + (-6)\\mathbf{\\hat{k}_{N}}$$"
      ],
      "text/plain": [
       "18*N.i + (-6)*N.k"
      ]
     },
     "execution_count": 58,
     "metadata": {},
     "output_type": "execute_result"
    }
   ],
   "source": [
    "b = c1.diff(a)\n",
    "b"
   ]
  }
 ],
 "metadata": {
  "kernelspec": {
   "display_name": "Python 3",
   "language": "python",
   "name": "python3"
  },
  "language_info": {
   "codemirror_mode": {
    "name": "ipython",
    "version": 3
   },
   "file_extension": ".py",
   "mimetype": "text/x-python",
   "name": "python",
   "nbconvert_exporter": "python",
   "pygments_lexer": "ipython3",
   "version": "3.7.3"
  }
 },
 "nbformat": 4,
 "nbformat_minor": 2
}
